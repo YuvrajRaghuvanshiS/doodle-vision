{
 "cells": [
  {
   "cell_type": "code",
   "execution_count": null,
   "metadata": {
    "execution": {
     "iopub.execute_input": "2025-08-06T09:57:43.167645Z",
     "iopub.status.busy": "2025-08-06T09:57:43.167115Z",
     "iopub.status.idle": "2025-08-06T09:58:02.065128Z",
     "shell.execute_reply": "2025-08-06T09:58:02.064543Z",
     "shell.execute_reply.started": "2025-08-06T09:57:43.167622Z"
    },
    "trusted": true
   },
   "outputs": [],
   "source": [
    "import gc\n",
    "import json\n",
    "import os\n",
    "\n",
    "import numpy as np\n",
    "import tensorflow as tf\n",
    "from sklearn.utils import shuffle\n",
    "from tensorflow.keras.callbacks import EarlyStopping, ModelCheckpoint, ReduceLROnPlateau\n",
    "from tensorflow.keras.layers import (\n",
    "    LSTM,\n",
    "    BatchNormalization,\n",
    "    Bidirectional,\n",
    "    Concatenate,\n",
    "    Conv2D,\n",
    "    Dense,\n",
    "    Dropout,\n",
    "    GlobalAveragePooling2D,\n",
    "    Input,\n",
    "    MaxPooling2D,\n",
    ")\n",
    "from tensorflow.keras.models import Model\n",
    "from tensorflow.keras.utils import to_categorical\n",
    "from tqdm import tqdm"
   ]
  },
  {
   "cell_type": "code",
   "execution_count": null,
   "metadata": {
    "execution": {
     "iopub.execute_input": "2025-08-06T09:58:02.066805Z",
     "iopub.status.busy": "2025-08-06T09:58:02.066304Z",
     "iopub.status.idle": "2025-08-06T09:58:02.070192Z",
     "shell.execute_reply": "2025-08-06T09:58:02.069476Z",
     "shell.execute_reply.started": "2025-08-06T09:58:02.066785Z"
    },
    "trusted": true
   },
   "outputs": [],
   "source": [
    "gc.enable()"
   ]
  },
  {
   "cell_type": "code",
   "execution_count": null,
   "metadata": {
    "execution": {
     "iopub.execute_input": "2025-08-06T09:58:02.071286Z",
     "iopub.status.busy": "2025-08-06T09:58:02.071022Z",
     "iopub.status.idle": "2025-08-06T09:58:02.110147Z",
     "shell.execute_reply": "2025-08-06T09:58:02.109536Z",
     "shell.execute_reply.started": "2025-08-06T09:58:02.071262Z"
    },
    "trusted": true
   },
   "outputs": [],
   "source": [
    "MAX_SEQ_LEN = 130\n",
    "STROKE_FEATURES = 3\n",
    "IMG_HEIGHT, IMG_WIDTH = 28, 28\n",
    "IMG_CHANNELS = 1\n",
    "NUM_CLASSES = 345\n",
    "SAMPLES_PER_CLASS = 30_000\n",
    "DATA_DIR_STROKES = \"dataset/combined_strokes\"\n",
    "DATA_DIR_IMAGES = \"dataset/images\"\n",
    "LABEL_MAP_PATH = \"dataset/label_map.json\"\n",
    "VALIDATION_SPLIT = 0.1\n",
    "BATCH_SIZE = 128\n",
    "EPOCHS = 20\n",
    "\n",
    "with open(LABEL_MAP_PATH, \"r\") as f:\n",
    "    LABEL_MAP = json.load(f)"
   ]
  },
  {
   "cell_type": "code",
   "execution_count": null,
   "metadata": {
    "execution": {
     "iopub.execute_input": "2025-08-06T09:58:02.111947Z",
     "iopub.status.busy": "2025-08-06T09:58:02.111742Z",
     "iopub.status.idle": "2025-08-06T09:58:02.116215Z",
     "shell.execute_reply": "2025-08-06T09:58:02.115706Z",
     "shell.execute_reply.started": "2025-08-06T09:58:02.111930Z"
    },
    "trusted": true
   },
   "outputs": [],
   "source": [
    "tf.keras.mixed_precision.set_global_policy('mixed_float16')"
   ]
  },
  {
   "cell_type": "code",
   "execution_count": null,
   "metadata": {
    "execution": {
     "iopub.execute_input": "2025-08-06T09:58:02.117155Z",
     "iopub.status.busy": "2025-08-06T09:58:02.116930Z",
     "iopub.status.idle": "2025-08-06T09:58:02.133067Z",
     "shell.execute_reply": "2025-08-06T09:58:02.132595Z",
     "shell.execute_reply.started": "2025-08-06T09:58:02.117131Z"
    },
    "trusted": true
   },
   "outputs": [],
   "source": [
    "def preprocess_stroke(stroke, max_len=MAX_SEQ_LEN):\n",
    "    \"\"\"\n",
    "    Improved stroke preprocessing with consistent normalization\n",
    "    Centers to (0,0) and scales to [-100, 100] range\n",
    "    \"\"\"\n",
    "    stroke = stroke.astype(np.float32)\n",
    "\n",
    "    # Convert to absolute coordinates\n",
    "    stroke[:, 0] = np.cumsum(stroke[:, 0])\n",
    "    stroke[:, 1] = np.cumsum(stroke[:, 1])\n",
    "\n",
    "    # Center to (0, 0)\n",
    "    stroke[:, 0] -= stroke[:, 0].mean()\n",
    "    stroke[:, 1] -= stroke[:, 1].mean()\n",
    "\n",
    "    # Scale to [-100, 100] range\n",
    "    if len(stroke) > 0:\n",
    "        # Find the maximum absolute coordinate value\n",
    "        max_coord = max(\n",
    "            np.abs(stroke[:, 0]).max() if len(stroke) > 0 else 1,\n",
    "            np.abs(stroke[:, 1]).max() if len(stroke) > 0 else 1,\n",
    "        )\n",
    "\n",
    "        # Avoid division by zero\n",
    "        if max_coord > 0:\n",
    "            # Scale to [-100, 100] range\n",
    "            scale_factor = 100.0 / max_coord\n",
    "            stroke[:, 0] *= scale_factor\n",
    "            stroke[:, 1] *= scale_factor\n",
    "\n",
    "    # Truncate or pad as before\n",
    "    if len(stroke) > max_len:\n",
    "        return stroke[:max_len]\n",
    "\n",
    "    pad = np.zeros((max_len - len(stroke), STROKE_FEATURES), dtype=np.float32)\n",
    "    return np.vstack([stroke, pad])"
   ]
  },
  {
   "cell_type": "code",
   "execution_count": null,
   "metadata": {
    "execution": {
     "iopub.execute_input": "2025-08-06T09:58:02.134479Z",
     "iopub.status.busy": "2025-08-06T09:58:02.133894Z",
     "iopub.status.idle": "2025-08-06T09:58:02.157036Z",
     "shell.execute_reply": "2025-08-06T09:58:02.156330Z",
     "shell.execute_reply.started": "2025-08-06T09:58:02.134462Z"
    },
    "trusted": true
   },
   "outputs": [],
   "source": [
    "def build_hybrid_model(num_classes):\n",
    "    inp_str = Input(shape=(MAX_SEQ_LEN, STROKE_FEATURES), name=\"stroke_input\")\n",
    "    x = Bidirectional(LSTM(128, return_sequences=True))(inp_str)\n",
    "    x = Dropout(0.3)(x)\n",
    "    x = Bidirectional(LSTM(128, return_sequences=True))(x)\n",
    "    x = Dropout(0.3)(x)\n",
    "    x = Bidirectional(LSTM(64))(x)\n",
    "    x = Dense(128, activation=\"relu\")(x)\n",
    "\n",
    "    inp_img = Input(shape=(IMG_HEIGHT, IMG_WIDTH, IMG_CHANNELS), name=\"image_input\")\n",
    "    y = Conv2D(32, 3, activation=\"relu\", padding=\"same\")(inp_img)\n",
    "    y = MaxPooling2D()(y)\n",
    "    y = Conv2D(64, 3, activation=\"relu\", padding=\"same\")(y)\n",
    "    y = BatchNormalization()(y)\n",
    "    y = MaxPooling2D()(y)\n",
    "    y = Conv2D(128, 3, activation=\"relu\", padding=\"same\")(y)\n",
    "    y = BatchNormalization()(y)\n",
    "    y = MaxPooling2D()(y)\n",
    "    y = Conv2D(256, 3, activation=\"relu\", padding=\"same\")(y)\n",
    "    y = GlobalAveragePooling2D()(y)\n",
    "    y = Dense(128, activation=\"relu\")(y)\n",
    "\n",
    "    merged = Concatenate()([x, y])\n",
    "    merged = Dropout(0.5)(merged)\n",
    "    merged = Dense(256, activation=\"relu\")(merged)\n",
    "    merged = Dropout(0.3)(merged)\n",
    "    out = Dense(num_classes, activation=\"softmax\", dtype=\"float32\")(merged)\n",
    "\n",
    "    return Model(inputs=[inp_str, inp_img], outputs=out, name=\"hybrid_model\")"
   ]
  },
  {
   "cell_type": "code",
   "execution_count": null,
   "metadata": {
    "execution": {
     "iopub.execute_input": "2025-08-06T09:58:02.157932Z",
     "iopub.status.busy": "2025-08-06T09:58:02.157702Z",
     "iopub.status.idle": "2025-08-06T09:58:05.684564Z",
     "shell.execute_reply": "2025-08-06T09:58:05.684023Z",
     "shell.execute_reply.started": "2025-08-06T09:58:02.157909Z"
    },
    "trusted": true
   },
   "outputs": [],
   "source": [
    "model = build_hybrid_model(num_classes=NUM_CLASSES)\n",
    "model.compile(\n",
    "    optimizer=\"adam\",\n",
    "    loss=tf.keras.losses.CategoricalCrossentropy(label_smoothing=0.1),\n",
    "    metrics=[\"accuracy\"],\n",
    ")\n",
    "\n",
    "model.summary()"
   ]
  },
  {
   "cell_type": "code",
   "execution_count": null,
   "metadata": {
    "execution": {
     "iopub.execute_input": "2025-08-06T09:58:05.685415Z",
     "iopub.status.busy": "2025-08-06T09:58:05.685213Z",
     "iopub.status.idle": "2025-08-06T09:58:05.692538Z",
     "shell.execute_reply": "2025-08-06T09:58:05.691870Z",
     "shell.execute_reply.started": "2025-08-06T09:58:05.685390Z"
    },
    "trusted": true
   },
   "outputs": [],
   "source": [
    "def load_hybrid_data(N=SAMPLES_PER_CLASS):\n",
    "    X_img_list, X_str_list, y_list = [], [], []\n",
    "    for cls, idx in tqdm(LABEL_MAP.items()):\n",
    "        img_arr = np.load(\n",
    "            os.path.join(DATA_DIR_IMAGES, f\"{cls}.npy\"),\n",
    "            allow_pickle=True,\n",
    "            encoding=\"latin1\",\n",
    "        )[:N]\n",
    "        img_arr = (\n",
    "            img_arr.reshape(-1, IMG_HEIGHT, IMG_WIDTH, IMG_CHANNELS).astype(\"float16\")\n",
    "            / 255.0\n",
    "        )\n",
    "        X_img_list.append(img_arr)\n",
    "        del img_arr\n",
    "        gc.collect()\n",
    "\n",
    "        data = np.load(\n",
    "            os.path.join(DATA_DIR_STROKES, f\"{cls}.npz\"),\n",
    "            allow_pickle=True,\n",
    "            encoding=\"latin1\",\n",
    "        )\n",
    "        strokes = data[\"strokes\"][:N]\n",
    "        proc = np.stack([preprocess_stroke(s) for s in strokes], axis=0).astype(\n",
    "            \"float16\"\n",
    "        )\n",
    "        X_str_list.append(proc)\n",
    "        del data, strokes, proc\n",
    "        gc.collect()\n",
    "\n",
    "        y_list.append(np.full((N,), idx, dtype=np.int32))\n",
    "\n",
    "    X_img = np.concatenate(X_img_list, axis=0)\n",
    "    X_str = np.concatenate(X_str_list, axis=0)\n",
    "    y = np.concatenate(y_list, axis=0)\n",
    "\n",
    "    X_img, X_str, y = shuffle(X_img, X_str, y, random_state=42)\n",
    "    y_cat = to_categorical(y, num_classes=NUM_CLASSES)\n",
    "\n",
    "    return (X_str, X_img), y_cat\n",
    "\n",
    "\n",
    "def tf_dataset(X_img, X_str, y, batch_size):\n",
    "    ds = tf.data.Dataset.from_tensor_slices(((X_str, X_img), y))\n",
    "    ds = ds.shuffle(10000).batch(batch_size).prefetch(tf.data.AUTOTUNE)\n",
    "    return ds"
   ]
  },
  {
   "cell_type": "code",
   "execution_count": null,
   "metadata": {
    "execution": {
     "iopub.execute_input": "2025-08-06T09:58:05.693867Z",
     "iopub.status.busy": "2025-08-06T09:58:05.693281Z",
     "iopub.status.idle": "2025-08-06T10:08:57.814890Z",
     "shell.execute_reply": "2025-08-06T10:08:57.814074Z",
     "shell.execute_reply.started": "2025-08-06T09:58:05.693839Z"
    },
    "trusted": true
   },
   "outputs": [],
   "source": [
    "(X_str, X_img), y = load_hybrid_data(N=SAMPLES_PER_CLASS)\n",
    "\n",
    "total = X_img.shape[0]\n",
    "split = int((1 - VALIDATION_SPLIT) * total)\n",
    "\n",
    "X_str_train, X_str_val = X_str[:split], X_str[split:]\n",
    "X_img_train, X_img_val = X_img[:split], X_img[split:]\n",
    "y_train, y_val = y[:split], y[split:]\n",
    "del X_str, X_img, y\n",
    "gc.collect()\n",
    "\n",
    "train_ds = tf_dataset(X_img_train, X_str_train, y_train, batch_size=BATCH_SIZE)\n",
    "val_ds = tf_dataset(X_img_val, X_str_val, y_val, batch_size=BATCH_SIZE)"
   ]
  },
  {
   "cell_type": "code",
   "execution_count": null,
   "metadata": {
    "_cell_guid": "b1076dfc-b9ad-4769-8c92-a6c4dae69d19",
    "_uuid": "8f2839f25d086af736a60e9eeb907d3b93b6e0e5",
    "execution": {
     "iopub.execute_input": "2025-08-06T10:08:57.816971Z",
     "iopub.status.busy": "2025-08-06T10:08:57.816710Z",
     "iopub.status.idle": "2025-08-06T13:34:02.872337Z",
     "shell.execute_reply": "2025-08-06T13:34:02.871720Z",
     "shell.execute_reply.started": "2025-08-06T10:08:57.816954Z"
    },
    "trusted": true
   },
   "outputs": [],
   "source": [
    "model_name = f\"best_model_{NUM_CLASSES}_classes_{SAMPLES_PER_CLASS}_examples.keras\"\n",
    "callbacks = [\n",
    "    ModelCheckpoint(model_name, monitor=\"val_accuracy\", save_best_only=True),\n",
    "    EarlyStopping(monitor=\"val_loss\", patience=5, restore_best_weights=True),\n",
    "    ReduceLROnPlateau(monitor=\"val_loss\", factor=0.5, patience=3),\n",
    "]\n",
    "\n",
    "history = model.fit(\n",
    "    train_ds,\n",
    "    validation_data=val_ds,\n",
    "    epochs=EPOCHS,\n",
    "    callbacks=callbacks,\n",
    ")"
   ]
  },
  {
   "cell_type": "code",
   "execution_count": null,
   "metadata": {
    "execution": {
     "iopub.execute_input": "2025-08-06T13:37:05.229709Z",
     "iopub.status.busy": "2025-08-06T13:37:05.229384Z",
     "iopub.status.idle": "2025-08-06T13:37:05.236469Z",
     "shell.execute_reply": "2025-08-06T13:37:05.235804Z",
     "shell.execute_reply.started": "2025-08-06T13:37:05.229649Z"
    },
    "trusted": true
   },
   "outputs": [],
   "source": [
    "val_acc = history.history[\"val_accuracy\"][-1]\n",
    "train_acc = history.history[\"accuracy\"][-1]\n",
    "val_loss = history.history[\"val_loss\"][-1]\n",
    "\n",
    "val_acc_str = f\"{val_acc:.4f}\"\n",
    "train_acc_str = f\"{train_acc:.4f}\"\n",
    "val_loss_str = f\"{val_loss:.4f}\"\n",
    "\n",
    "new_model_name = (\n",
    "    f\"best_model_{NUM_CLASSES}c_{SAMPLES_PER_CLASS}x_\"\n",
    "    f\"valacc_{val_acc_str}_trainacc_{train_acc_str}_valloss_{val_loss_str}.keras\"\n",
    ")\n",
    "\n",
    "os.rename(model_name, new_model_name)\n",
    "print(f\"Renamed model file to: {new_model_name}\")\n",
    "\n",
    "with open(\"training_summary.txt\", \"w\") as f:\n",
    "    f.write(f\"NUM_CLASSES: {NUM_CLASSES}\\n\")\n",
    "    f.write(f\"SAMPLES_PER_CLASS: {SAMPLES_PER_CLASS}\\n\")\n",
    "    f.write(f\"Final Validation Accuracy: {val_acc:.4f}\\n\")\n",
    "    f.write(f\"Final Training Accuracy: {train_acc:.4f}\\n\")\n",
    "    f.write(f\"Final Validation Loss: {val_loss:.4f}\\n\")\n",
    "    f.write(f\"Model file: {new_model_name}\\n\")"
   ]
  },
  {
   "cell_type": "code",
   "execution_count": null,
   "metadata": {
    "trusted": true
   },
   "outputs": [],
   "source": []
  }
 ],
 "metadata": {
  "kaggle": {
   "accelerator": "nvidiaTeslaT4",
   "dataSources": [
    {
     "datasetId": 8012973,
     "sourceId": 12679868,
     "sourceType": "datasetVersion"
    }
   ],
   "dockerImageVersionId": 31090,
   "isGpuEnabled": true,
   "isInternetEnabled": true,
   "language": "python",
   "sourceType": "notebook"
  },
  "kernelspec": {
   "display_name": "Python 3",
   "language": "python",
   "name": "python3"
  },
  "language_info": {
   "codemirror_mode": {
    "name": "ipython",
    "version": 3
   },
   "file_extension": ".py",
   "mimetype": "text/x-python",
   "name": "python",
   "nbconvert_exporter": "python",
   "pygments_lexer": "ipython3",
   "version": "3.11.13"
  }
 },
 "nbformat": 4,
 "nbformat_minor": 4
}
