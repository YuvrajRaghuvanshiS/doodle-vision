{
 "cells": [
  {
   "cell_type": "markdown",
   "id": "816c2ef3",
   "metadata": {},
   "source": [
    "### Theory About Reproducibility\n",
    "\n",
    "During the training of the model the Python version and the library version freezing was not taken care of, or rather was not required because in various different environments this notebook ran as it is, still the last environment configurations were as follows:\n",
    "- Python 3.13\n",
    "- Tensorflow 2.20\n",
    "- Numpy 2.0\n",
    "\n",
    "This environment freezing became a huge concern while quantizing the model and running it on RaspberryPi (more on that in their respective notebooks/READMEs).\n",
    "\n",
    "### Extras/Good to Knows\n",
    "#### Port Forwarding on Server\n",
    "To run a notebook on remote server (or inception of servers as we did on our department's two level deep servers) you can either pull a non interactive Python file and run on screen/tmux session which is not ideal, or, you can run a Jupyter notebook inside the server and forward the port to your local host. For the latter you'd require the following: \n",
    "```bash\n",
    "ssh -L 8888:localhost:8888 user@ip # forwarding remote 8888 port to your local 8888 port while ssh-ing into the machine\n",
    "\n",
    "# Now inside the remote server\n",
    "cd doodle-vision\n",
    "source .tens/bin/active\n",
    "jupyter notebook --no-browser --port=8888 # run the notebook on port 8888\n",
    "# Now just copy paste the link into your local browser.\n",
    "```\n",
    "This works when more than one servers are running inside each other, for example, we must log into the department server and from that we login to the desired server. In such case we carry forward the port forwarding the same way\n",
    "\n",
    "#### Using Virtual Environment as Kernel\n",
    "In order to get more control on the kernel we can use the virtual environment as kernel. This helps control not only the libraries' version but the Python version also. To do so: \n",
    "```bash\n",
    "cd doodle-vision\n",
    "python3.12 -m venv .tens # Use python 3.12. The name .tens signifies it will have tensorflow without CUDA.\n",
    "source .tens/bin/activate\n",
    "\n",
    "pip install jupyter ipykernel # Install the packages to help Jupyter identify it.\n",
    "python -m ipykernel install --user --name=.tens # Register/install this virtual environment as kernel.\n",
    "```"
   ]
  },
  {
   "cell_type": "markdown",
   "id": "2709d93f",
   "metadata": {},
   "source": [
    "### Prerequisites (uncomment to run)"
   ]
  },
  {
   "cell_type": "markdown",
   "id": "16f38335",
   "metadata": {},
   "source": [
    "#### Installations"
   ]
  },
  {
   "cell_type": "code",
   "execution_count": 1,
   "id": "eb745e1d",
   "metadata": {},
   "outputs": [
    {
     "name": "stdout",
     "output_type": "stream",
     "text": [
      "Requirement already satisfied: numpy in /home/priyanka/doodle-vision/.tens-and-cuda/lib/python3.13/site-packages (2.3.2)\n",
      "Requirement already satisfied: tqdm in /home/priyanka/doodle-vision/.tens-and-cuda/lib/python3.13/site-packages (4.67.1)\n",
      "Requirement already satisfied: matplotlib in /home/priyanka/doodle-vision/.tens-and-cuda/lib/python3.13/site-packages (3.10.5)\n",
      "Requirement already satisfied: tensorflow[and-cuda] in /home/priyanka/doodle-vision/.tens-and-cuda/lib/python3.13/site-packages (2.20.0)\n",
      "Requirement already satisfied: absl-py>=1.0.0 in /home/priyanka/doodle-vision/.tens-and-cuda/lib/python3.13/site-packages (from tensorflow[and-cuda]) (2.3.1)\n",
      "Requirement already satisfied: astunparse>=1.6.0 in /home/priyanka/doodle-vision/.tens-and-cuda/lib/python3.13/site-packages (from tensorflow[and-cuda]) (1.6.3)\n",
      "Requirement already satisfied: flatbuffers>=24.3.25 in /home/priyanka/doodle-vision/.tens-and-cuda/lib/python3.13/site-packages (from tensorflow[and-cuda]) (25.2.10)\n",
      "Requirement already satisfied: gast!=0.5.0,!=0.5.1,!=0.5.2,>=0.2.1 in /home/priyanka/doodle-vision/.tens-and-cuda/lib/python3.13/site-packages (from tensorflow[and-cuda]) (0.6.0)\n",
      "Requirement already satisfied: google_pasta>=0.1.1 in /home/priyanka/doodle-vision/.tens-and-cuda/lib/python3.13/site-packages (from tensorflow[and-cuda]) (0.2.0)\n",
      "Requirement already satisfied: libclang>=13.0.0 in /home/priyanka/doodle-vision/.tens-and-cuda/lib/python3.13/site-packages (from tensorflow[and-cuda]) (18.1.1)\n",
      "Requirement already satisfied: opt_einsum>=2.3.2 in /home/priyanka/doodle-vision/.tens-and-cuda/lib/python3.13/site-packages (from tensorflow[and-cuda]) (3.4.0)\n",
      "Requirement already satisfied: packaging in /home/priyanka/doodle-vision/.tens-and-cuda/lib/python3.13/site-packages (from tensorflow[and-cuda]) (25.0)\n",
      "Requirement already satisfied: protobuf>=5.28.0 in /home/priyanka/doodle-vision/.tens-and-cuda/lib/python3.13/site-packages (from tensorflow[and-cuda]) (6.32.0)\n",
      "Requirement already satisfied: requests<3,>=2.21.0 in /home/priyanka/doodle-vision/.tens-and-cuda/lib/python3.13/site-packages (from tensorflow[and-cuda]) (2.32.4)\n",
      "Requirement already satisfied: setuptools in /home/priyanka/doodle-vision/.tens-and-cuda/lib/python3.13/site-packages (from tensorflow[and-cuda]) (80.9.0)\n",
      "Requirement already satisfied: six>=1.12.0 in /home/priyanka/doodle-vision/.tens-and-cuda/lib/python3.13/site-packages (from tensorflow[and-cuda]) (1.17.0)\n",
      "Requirement already satisfied: termcolor>=1.1.0 in /home/priyanka/doodle-vision/.tens-and-cuda/lib/python3.13/site-packages (from tensorflow[and-cuda]) (3.1.0)\n",
      "Requirement already satisfied: typing_extensions>=3.6.6 in /home/priyanka/doodle-vision/.tens-and-cuda/lib/python3.13/site-packages (from tensorflow[and-cuda]) (4.14.1)\n",
      "Requirement already satisfied: wrapt>=1.11.0 in /home/priyanka/doodle-vision/.tens-and-cuda/lib/python3.13/site-packages (from tensorflow[and-cuda]) (1.17.3)\n",
      "Requirement already satisfied: grpcio<2.0,>=1.24.3 in /home/priyanka/doodle-vision/.tens-and-cuda/lib/python3.13/site-packages (from tensorflow[and-cuda]) (1.74.0)\n",
      "Requirement already satisfied: tensorboard~=2.20.0 in /home/priyanka/doodle-vision/.tens-and-cuda/lib/python3.13/site-packages (from tensorflow[and-cuda]) (2.20.0)\n",
      "Requirement already satisfied: keras>=3.10.0 in /home/priyanka/doodle-vision/.tens-and-cuda/lib/python3.13/site-packages (from tensorflow[and-cuda]) (3.11.2)\n",
      "Requirement already satisfied: h5py>=3.11.0 in /home/priyanka/doodle-vision/.tens-and-cuda/lib/python3.13/site-packages (from tensorflow[and-cuda]) (3.14.0)\n",
      "Requirement already satisfied: ml_dtypes<1.0.0,>=0.5.1 in /home/priyanka/doodle-vision/.tens-and-cuda/lib/python3.13/site-packages (from tensorflow[and-cuda]) (0.5.3)\n",
      "Requirement already satisfied: nvidia-cublas-cu12<13.0,>=12.5.3.2 in /home/priyanka/doodle-vision/.tens-and-cuda/lib/python3.13/site-packages (from tensorflow[and-cuda]) (12.9.1.4)\n",
      "Requirement already satisfied: nvidia-cuda-cupti-cu12<13.0,>=12.5.82 in /home/priyanka/doodle-vision/.tens-and-cuda/lib/python3.13/site-packages (from tensorflow[and-cuda]) (12.9.79)\n",
      "Requirement already satisfied: nvidia-cuda-nvcc-cu12<13.0,>=12.5.82 in /home/priyanka/doodle-vision/.tens-and-cuda/lib/python3.13/site-packages (from tensorflow[and-cuda]) (12.9.86)\n",
      "Requirement already satisfied: nvidia-cuda-nvrtc-cu12<13.0,>=12.5.82 in /home/priyanka/doodle-vision/.tens-and-cuda/lib/python3.13/site-packages (from tensorflow[and-cuda]) (12.9.86)\n",
      "Requirement already satisfied: nvidia-cuda-runtime-cu12<13.0,>=12.5.82 in /home/priyanka/doodle-vision/.tens-and-cuda/lib/python3.13/site-packages (from tensorflow[and-cuda]) (12.9.79)\n",
      "Requirement already satisfied: nvidia-cudnn-cu12<10.0,>=9.3.0.75 in /home/priyanka/doodle-vision/.tens-and-cuda/lib/python3.13/site-packages (from tensorflow[and-cuda]) (9.12.0.46)\n",
      "Requirement already satisfied: nvidia-cufft-cu12<12.0,>=11.2.3.61 in /home/priyanka/doodle-vision/.tens-and-cuda/lib/python3.13/site-packages (from tensorflow[and-cuda]) (11.4.1.4)\n",
      "Requirement already satisfied: nvidia-curand-cu12<11.0,>=10.3.6.82 in /home/priyanka/doodle-vision/.tens-and-cuda/lib/python3.13/site-packages (from tensorflow[and-cuda]) (10.3.10.19)\n",
      "Requirement already satisfied: nvidia-cusolver-cu12<12.0,>=11.6.3.83 in /home/priyanka/doodle-vision/.tens-and-cuda/lib/python3.13/site-packages (from tensorflow[and-cuda]) (11.7.5.82)\n",
      "Requirement already satisfied: nvidia-cusparse-cu12<13.0,>=12.5.1.3 in /home/priyanka/doodle-vision/.tens-and-cuda/lib/python3.13/site-packages (from tensorflow[and-cuda]) (12.5.10.65)\n",
      "Requirement already satisfied: nvidia-nccl-cu12<3.0,>=2.25.1 in /home/priyanka/doodle-vision/.tens-and-cuda/lib/python3.13/site-packages (from tensorflow[and-cuda]) (2.27.7)\n",
      "Requirement already satisfied: nvidia-nvjitlink-cu12<13.0,>=12.5.82 in /home/priyanka/doodle-vision/.tens-and-cuda/lib/python3.13/site-packages (from tensorflow[and-cuda]) (12.9.86)\n",
      "Requirement already satisfied: charset_normalizer<4,>=2 in /home/priyanka/doodle-vision/.tens-and-cuda/lib/python3.13/site-packages (from requests<3,>=2.21.0->tensorflow[and-cuda]) (3.4.3)\n",
      "Requirement already satisfied: idna<4,>=2.5 in /home/priyanka/doodle-vision/.tens-and-cuda/lib/python3.13/site-packages (from requests<3,>=2.21.0->tensorflow[and-cuda]) (3.10)\n",
      "Requirement already satisfied: urllib3<3,>=1.21.1 in /home/priyanka/doodle-vision/.tens-and-cuda/lib/python3.13/site-packages (from requests<3,>=2.21.0->tensorflow[and-cuda]) (2.5.0)\n",
      "Requirement already satisfied: certifi>=2017.4.17 in /home/priyanka/doodle-vision/.tens-and-cuda/lib/python3.13/site-packages (from requests<3,>=2.21.0->tensorflow[and-cuda]) (2025.8.3)\n",
      "Requirement already satisfied: markdown>=2.6.8 in /home/priyanka/doodle-vision/.tens-and-cuda/lib/python3.13/site-packages (from tensorboard~=2.20.0->tensorflow[and-cuda]) (3.8.2)\n",
      "Requirement already satisfied: pillow in /home/priyanka/doodle-vision/.tens-and-cuda/lib/python3.13/site-packages (from tensorboard~=2.20.0->tensorflow[and-cuda]) (11.3.0)\n",
      "Requirement already satisfied: tensorboard-data-server<0.8.0,>=0.7.0 in /home/priyanka/doodle-vision/.tens-and-cuda/lib/python3.13/site-packages (from tensorboard~=2.20.0->tensorflow[and-cuda]) (0.7.2)\n",
      "Requirement already satisfied: werkzeug>=1.0.1 in /home/priyanka/doodle-vision/.tens-and-cuda/lib/python3.13/site-packages (from tensorboard~=2.20.0->tensorflow[and-cuda]) (3.1.3)\n",
      "Requirement already satisfied: contourpy>=1.0.1 in /home/priyanka/doodle-vision/.tens-and-cuda/lib/python3.13/site-packages (from matplotlib) (1.3.3)\n",
      "Requirement already satisfied: cycler>=0.10 in /home/priyanka/doodle-vision/.tens-and-cuda/lib/python3.13/site-packages (from matplotlib) (0.12.1)\n",
      "Requirement already satisfied: fonttools>=4.22.0 in /home/priyanka/doodle-vision/.tens-and-cuda/lib/python3.13/site-packages (from matplotlib) (4.59.1)\n",
      "Requirement already satisfied: kiwisolver>=1.3.1 in /home/priyanka/doodle-vision/.tens-and-cuda/lib/python3.13/site-packages (from matplotlib) (1.4.9)\n",
      "Requirement already satisfied: pyparsing>=2.3.1 in /home/priyanka/doodle-vision/.tens-and-cuda/lib/python3.13/site-packages (from matplotlib) (3.2.3)\n",
      "Requirement already satisfied: python-dateutil>=2.7 in /home/priyanka/doodle-vision/.tens-and-cuda/lib/python3.13/site-packages (from matplotlib) (2.9.0.post0)\n",
      "Requirement already satisfied: wheel<1.0,>=0.23.0 in /home/priyanka/doodle-vision/.tens-and-cuda/lib/python3.13/site-packages (from astunparse>=1.6.0->tensorflow[and-cuda]) (0.45.1)\n",
      "Requirement already satisfied: rich in /home/priyanka/doodle-vision/.tens-and-cuda/lib/python3.13/site-packages (from keras>=3.10.0->tensorflow[and-cuda]) (14.1.0)\n",
      "Requirement already satisfied: namex in /home/priyanka/doodle-vision/.tens-and-cuda/lib/python3.13/site-packages (from keras>=3.10.0->tensorflow[and-cuda]) (0.1.0)\n",
      "Requirement already satisfied: optree in /home/priyanka/doodle-vision/.tens-and-cuda/lib/python3.13/site-packages (from keras>=3.10.0->tensorflow[and-cuda]) (0.17.0)\n",
      "Requirement already satisfied: MarkupSafe>=2.1.1 in /home/priyanka/doodle-vision/.tens-and-cuda/lib/python3.13/site-packages (from werkzeug>=1.0.1->tensorboard~=2.20.0->tensorflow[and-cuda]) (3.0.2)\n",
      "Requirement already satisfied: markdown-it-py>=2.2.0 in /home/priyanka/doodle-vision/.tens-and-cuda/lib/python3.13/site-packages (from rich->keras>=3.10.0->tensorflow[and-cuda]) (4.0.0)\n",
      "Requirement already satisfied: pygments<3.0.0,>=2.13.0 in /home/priyanka/doodle-vision/.tens-and-cuda/lib/python3.13/site-packages (from rich->keras>=3.10.0->tensorflow[and-cuda]) (2.19.2)\n",
      "Requirement already satisfied: mdurl~=0.1 in /home/priyanka/doodle-vision/.tens-and-cuda/lib/python3.13/site-packages (from markdown-it-py>=2.2.0->rich->keras>=3.10.0->tensorflow[and-cuda]) (0.1.2)\n",
      "\n",
      "\u001b[1m[\u001b[0m\u001b[34;49mnotice\u001b[0m\u001b[1;39;49m]\u001b[0m\u001b[39;49m A new release of pip is available: \u001b[0m\u001b[31;49m25.1.1\u001b[0m\u001b[39;49m -> \u001b[0m\u001b[32;49m25.2\u001b[0m\n",
      "\u001b[1m[\u001b[0m\u001b[34;49mnotice\u001b[0m\u001b[1;39;49m]\u001b[0m\u001b[39;49m To update, run: \u001b[0m\u001b[32;49m/home/priyanka/doodle-vision/.tens-and-cuda/bin/python -m pip install --upgrade pip\u001b[0m\n",
      "Note: you may need to restart the kernel to use updated packages.\n"
     ]
    }
   ],
   "source": [
    "# Assuming the virtual environment .tens-and-cuda is being used\n",
    "%pip install tensorflow[and-cuda] numpy tqdm matplotlib"
   ]
  },
  {
   "cell_type": "markdown",
   "id": "1f0ccecc",
   "metadata": {},
   "source": [
    "#### Data preprocessing"
   ]
  },
  {
   "cell_type": "code",
   "execution_count": 2,
   "id": "271b7b7a",
   "metadata": {},
   "outputs": [],
   "source": [
    "# # Step 1: Download QuickDraw dataset\n",
    "# %python download_data.py\n",
    "\n",
    "# # Step 2: Combine stroke data across different partitions (train, val, test).\n",
    "# # The original data (e.g., airplanes.npz) is split into these partitions, \n",
    "# # which reduces the number of data points. We merge all partitions for a complete dataset.\n",
    "# %python combine_strokes.py\n",
    "\n",
    "# # Step 3: Convert each `.npy` and `.npz` file into individual sample files.\n",
    "# # For example, `airplanes.npy` contains (N, 784), where N is the number of samples \n",
    "# # and each sample is a flattened 28x28 image (784 features). We split this into\n",
    "# # individual `.npy` files like `airplanes/000001.npy`, `airplanes/000002.npy`, etc.\n",
    "# # This allows us to load specific slices of data (e.g., airplanes[3012:33012]) \n",
    "# # without having to load the entire file, reducing memory usage and avoiding memory eviction issues.\n",
    "# %python convert_to_individual_npys.py"
   ]
  },
  {
   "cell_type": "markdown",
   "id": "5767a42d",
   "metadata": {},
   "source": [
    "### Imports"
   ]
  },
  {
   "cell_type": "code",
   "execution_count": 3,
   "id": "319e4103",
   "metadata": {},
   "outputs": [],
   "source": [
    "import datetime\n",
    "import gc\n",
    "import json\n",
    "import math\n",
    "import os\n",
    "import pickle\n",
    "import random\n",
    "from glob import glob\n",
    "\n",
    "import matplotlib.pyplot as plt\n",
    "import numpy as np\n",
    "import tensorflow as tf\n",
    "from tensorflow.keras.callbacks import (\n",
    "    BackupAndRestore,\n",
    "    EarlyStopping,\n",
    "    ModelCheckpoint,\n",
    "    ReduceLROnPlateau,\n",
    "    TensorBoard,\n",
    ")\n",
    "from tensorflow.keras.layers import (\n",
    "    LSTM,\n",
    "    BatchNormalization,\n",
    "    Bidirectional,\n",
    "    Concatenate,\n",
    "    Conv2D,\n",
    "    Dense,\n",
    "    Dropout,\n",
    "    GlobalAveragePooling2D,\n",
    "    Input,\n",
    "    MaxPooling2D,\n",
    ")\n",
    "from tensorflow.keras.models import Model\n",
    "from tqdm import tqdm\n"
   ]
  },
  {
   "cell_type": "markdown",
   "id": "385c4aea",
   "metadata": {},
   "source": [
    "### GPU Configs"
   ]
  },
  {
   "cell_type": "code",
   "execution_count": 4,
   "id": "0d9e01da",
   "metadata": {},
   "outputs": [
    {
     "name": "stdout",
     "output_type": "stream",
     "text": [
      "1 Physical GPUs, 1 Logical GPUs\n"
     ]
    },
    {
     "name": "stderr",
     "output_type": "stream",
     "text": [
      "WARNING: All log messages before absl::InitializeLog() is called are written to STDERR\n",
      "I0000 00:00:1755336908.211149   79987 gpu_device.cc:2020] Created device /job:localhost/replica:0/task:0/device:GPU:0 with 22160 MB memory:  -> device: 0, name: NVIDIA GeForce RTX 4090, pci bus id: 0000:01:00.0, compute capability: 8.9\n"
     ]
    }
   ],
   "source": [
    "gpus = tf.config.list_physical_devices(\"GPU\")\n",
    "\n",
    "if gpus:\n",
    "    try:\n",
    "        # Currently, memory growth needs to be the same across GPUs\n",
    "        for gpu in gpus:\n",
    "            tf.config.experimental.set_memory_growth(gpu, True)\n",
    "\n",
    "        logical_gpus = tf.config.list_logical_devices(\"GPU\")\n",
    "        print(len(gpus), \"Physical GPUs,\", len(logical_gpus), \"Logical GPUs\")\n",
    "\n",
    "    except RuntimeError as e:\n",
    "        # Memory growth must be set before GPUs have been initialized\n",
    "        print(e)\n"
   ]
  },
  {
   "cell_type": "markdown",
   "id": "d4f91654",
   "metadata": {
    "jp-MarkdownHeadingCollapsed": true
   },
   "source": [
    "### Global Variables"
   ]
  },
  {
   "cell_type": "code",
   "execution_count": 5,
   "id": "a1c56e5e",
   "metadata": {},
   "outputs": [],
   "source": [
    "# Files\n",
    "DATA_DIR_IMAGES = \"dataset/images\"\n",
    "DATA_DIR_STROKES = \"dataset/combined_strokes\"\n",
    "LABELS_JSON    = \"dataset/label_map.json\"\n",
    "PROCESSED_DATA_DIR = \"dataset/processed\"\n",
    "\n",
    "# Data props\n",
    "NUM_CLASSES = 345\n",
    "\n",
    "# Data props (image)\n",
    "IMG_HEIGHT     = 28\n",
    "IMG_WIDTH      = 28\n",
    "IMG_CHANNELS   = 1\n",
    "\n",
    "# Data props (stroke)\n",
    "MAX_STROKES_LEN = 130\n",
    "STROKES_FEATURES = 3\n",
    "\n",
    "# Training\n",
    "SAMPLES_PER_CLASS = 30_000\n",
    "SPLIT_RATIOS = (0.8, 0.1, 0.1) # train, val, test\n",
    "BATCH_SIZE = 512\n",
    "EPOCHS = 30\n",
    "\n",
    "# General Config\n",
    "USE_INDIVIDUAL = True # Whether using the downloaded npy files or preprocessed individual example npy files\n",
    "\n",
    "# In-memory loading threshold (for 10_000, used 11% of 128GB memory)\n",
    "IN_MEMORY_THRESHOLD = 30_000  # Load everything to RAM early-on if SAMPLES_PER_CLASS <= this, otherwise load inside the generator\n",
    "USE_IN_MEMORY = USE_INDIVIDUAL and (SAMPLES_PER_CLASS <= IN_MEMORY_THRESHOLD)\n"
   ]
  },
  {
   "cell_type": "code",
   "execution_count": 6,
   "id": "592eab1a",
   "metadata": {},
   "outputs": [],
   "source": [
    "with open(LABELS_JSON, 'r') as f:\n",
    "    LABEL_MAP = json.load(f)\n",
    "    \n",
    "REV_LABEL_MAP = {v: k for k, v in LABEL_MAP.items()}"
   ]
  },
  {
   "cell_type": "markdown",
   "id": "70ef4864",
   "metadata": {},
   "source": [
    "### Data Preprocessing Helper Functions"
   ]
  },
  {
   "cell_type": "code",
   "execution_count": 7,
   "id": "8294ee81",
   "metadata": {},
   "outputs": [],
   "source": [
    "def preprocess_image(flat_img):\n",
    "    \"\"\"\n",
    "    Input shape: (784,)\n",
    "    Output shape: (28, 28, 1), normalized to [0, 1]\n",
    "    \"\"\"\n",
    "    img = flat_img.reshape(28, 28).astype(np.float32) / 255.0\n",
    "    return np.expand_dims(img, axis=-1)  # shape: (28, 28, 1)\n",
    "\n",
    "def preprocess_strokes(strokes, max_len=MAX_STROKES_LEN):\n",
    "    \"\"\"\n",
    "    Improved stroke preprocessing with consistent normalization\n",
    "    Centers to (0,0) and scales to [-100, 100] range\n",
    "    \"\"\"\n",
    "    strokes = strokes.astype(np.float32)\n",
    "\n",
    "    # Convert to absolute coordinates\n",
    "    strokes[:, 0] = np.cumsum(strokes[:, 0])\n",
    "    strokes[:, 1] = np.cumsum(strokes[:, 1])\n",
    "\n",
    "    # Center to (0, 0)\n",
    "    strokes[:, 0] -= strokes[:, 0].mean()\n",
    "    strokes[:, 1] -= strokes[:, 1].mean()\n",
    "\n",
    "    # Scale to [-100, 100] range\n",
    "    if len(strokes) > 0:\n",
    "        # Find the maximum absolute coordinate value\n",
    "        max_coord = max(\n",
    "            np.abs(strokes[:, 0]).max() if len(strokes) > 0 else 1,\n",
    "            np.abs(strokes[:, 1]).max() if len(strokes) > 0 else 1,\n",
    "        )\n",
    "\n",
    "        # Avoid division by zero\n",
    "        if max_coord > 0:\n",
    "            # Scale to [-100, 100] range\n",
    "            scale_factor = 100.0 / max_coord\n",
    "            strokes[:, 0] *= scale_factor\n",
    "            strokes[:, 1] *= scale_factor\n",
    "\n",
    "    # Truncate or pad as before\n",
    "    if len(strokes) > max_len:\n",
    "        return strokes[:max_len]\n",
    "\n",
    "    pad = np.zeros((max_len - len(strokes), STROKES_FEATURES), dtype=np.float32)\n",
    "\n",
    "    return np.vstack([strokes, pad])"
   ]
  },
  {
   "cell_type": "markdown",
   "id": "56a3fc72",
   "metadata": {},
   "source": [
    "### Model Building"
   ]
  },
  {
   "cell_type": "code",
   "execution_count": 8,
   "id": "2c004ba1",
   "metadata": {},
   "outputs": [],
   "source": [
    "def build_hybrid_model(num_classes):\n",
    "    inp_str = Input(shape=(MAX_STROKES_LEN, STROKES_FEATURES), name=\"stroke_input\")\n",
    "    x = Bidirectional(LSTM(128, return_sequences=True))(inp_str)\n",
    "    x = Dropout(0.3)(x)\n",
    "    x = Bidirectional(LSTM(128, return_sequences=True))(x)\n",
    "    x = Dropout(0.3)(x)\n",
    "    x = Bidirectional(LSTM(64))(x)\n",
    "    x = Dense(128, activation=\"relu\")(x)\n",
    "\n",
    "    inp_img = Input(shape=(IMG_HEIGHT, IMG_WIDTH, IMG_CHANNELS), name=\"image_input\")\n",
    "    y = Conv2D(32, 3, activation=\"relu\", padding=\"same\")(inp_img)\n",
    "    y = MaxPooling2D()(y)\n",
    "    y = Conv2D(64, 3, activation=\"relu\", padding=\"same\")(y)\n",
    "    y = BatchNormalization()(y)\n",
    "    y = MaxPooling2D()(y)\n",
    "    y = Conv2D(128, 3, activation=\"relu\", padding=\"same\")(y)\n",
    "    y = BatchNormalization()(y)\n",
    "    y = MaxPooling2D()(y)\n",
    "    y = Conv2D(256, 3, activation=\"relu\", padding=\"same\")(y)\n",
    "    y = GlobalAveragePooling2D()(y)\n",
    "    y = Dense(128, activation=\"relu\")(y)\n",
    "\n",
    "    merged = Concatenate()([x, y])\n",
    "    merged = Dropout(0.5)(merged)\n",
    "    merged = Dense(256, activation=\"relu\")(merged)\n",
    "    merged = Dropout(0.3)(merged)\n",
    "    out = Dense(num_classes, activation=\"softmax\", dtype=\"float32\")(merged)\n",
    "\n",
    "    return Model(inputs=[inp_str, inp_img], outputs=out, name=\"hybrid_model\")\n",
    "\n",
    "model = build_hybrid_model(num_classes=NUM_CLASSES)\n",
    "model.compile(\n",
    "    optimizer=\"adam\",\n",
    "    loss=tf.keras.losses.CategoricalCrossentropy(label_smoothing=0.1),\n",
    "    metrics=[\"accuracy\"],\n",
    ")\n",
    "\n",
    "# model.summary()"
   ]
  },
  {
   "cell_type": "markdown",
   "id": "79f8966c",
   "metadata": {},
   "source": [
    "### Disk Data Loader for Original Data"
   ]
  },
  {
   "cell_type": "code",
   "execution_count": 9,
   "id": "c8231a46",
   "metadata": {},
   "outputs": [
    {
     "name": "stderr",
     "output_type": "stream",
     "text": [
      "Building dataset: 100%|███████████████████████████████████████████████████████████████████████████████████████████████████████████████████████████████████| 345/345 [18:24<00:00,  3.20s/it]"
     ]
    },
    {
     "name": "stdout",
     "output_type": "stream",
     "text": [
      "[In-Memory Mode] Loaded 10,350,000 samples.\n"
     ]
    },
    {
     "name": "stderr",
     "output_type": "stream",
     "text": [
      "\n"
     ]
    }
   ],
   "source": [
    "# When USE_IN_MEMORY: list of numpy objects\n",
    "# When USE_INDIVIDUAL: list of file paths\n",
    "# Otherwise: list of (cls_id, example_id)\n",
    "images = []\n",
    "strokes = []\n",
    "\n",
    "# Always list of integers\n",
    "labels = []\n",
    "\n",
    "if USE_INDIVIDUAL:\n",
    "    for cls, label in tqdm(LABEL_MAP.items(), desc=\"Building dataset\"):\n",
    "        image_files = sorted(\n",
    "            glob(os.path.join(PROCESSED_DATA_DIR, \"images\", cls, \"*.npy\"))\n",
    "        )\n",
    "        stroke_files = sorted(\n",
    "            glob(os.path.join(PROCESSED_DATA_DIR, \"strokes\", cls, \"*.npy\"))\n",
    "        )\n",
    "\n",
    "        N = min(len(image_files), len(stroke_files), SAMPLES_PER_CLASS)\n",
    "\n",
    "        for i in range(N):\n",
    "            image_path = image_files[i]\n",
    "            stroke_path = stroke_files[i]\n",
    "\n",
    "            if USE_IN_MEMORY:\n",
    "                images.append(np.load(image_path))\n",
    "                strokes.append(np.load(stroke_path))\n",
    "            else:\n",
    "                images.append(image_path)\n",
    "                strokes.append(stroke_path)\n",
    "            labels.append(label)\n",
    "\n",
    "    if USE_IN_MEMORY:\n",
    "        print(f\"[In-Memory Mode] Loaded {len(labels):,} samples.\")\n",
    "    else:\n",
    "        print(f\"[Individual Stream Mode] Loaded {len(labels):,} samples.\")\n",
    "\n",
    "else:\n",
    "    for cls, label in tqdm(LABEL_MAP.items(), desc=\"Building dataset\"):\n",
    "        image_path = os.path.join(DATA_DIR_IMAGES, f\"{cls}.npy\")\n",
    "        stroke_path = os.path.join(DATA_DIR_STROKES, f\"{cls}.npz\")\n",
    "\n",
    "        img_arr = np.load(image_path, allow_pickle=True, encoding=\"latin1\", mmap_mode=\"r\")\n",
    "        str_arr = np.load(stroke_path, allow_pickle=True, encoding=\"latin1\")[\"strokes\"]\n",
    "\n",
    "        N = min(img_arr.shape[0], len(str_arr), SAMPLES_PER_CLASS)\n",
    "\n",
    "        for i in range(N):\n",
    "            images.append((label, i))\n",
    "            strokes.append((label, i))\n",
    "            labels.append(label)\n",
    "\n",
    "    print(f\"[Original Mode] Loaded {len(labels):,} samples.\")"
   ]
  },
  {
   "cell_type": "code",
   "execution_count": 10,
   "id": "7226deb5",
   "metadata": {},
   "outputs": [],
   "source": [
    "def plot_images_and_strokes(images, strokes, labels, n=100):\n",
    "    # Pick n random indices\n",
    "    idxs = random.sample(range(len(labels)), n)\n",
    "\n",
    "    plt.figure(figsize=(10, n * 1.5))  # Large enough for many rows\n",
    "    for i, idx in enumerate(idxs):\n",
    "        # Load image\n",
    "        if isinstance(images[idx], str):  # Path\n",
    "            img = np.load(images[idx])\n",
    "        elif isinstance(images[idx], tuple):  # (label, i) for Original Mode\n",
    "            label_id, ex_id = images[idx]\n",
    "            cls = list(LABEL_MAP.keys())[label_id]\n",
    "            img = np.load(os.path.join(DATA_DIR_IMAGES, f\"{cls}.npy\"), \n",
    "                          mmap_mode=\"r\")[ex_id]\n",
    "        else:  # Already in memory\n",
    "            img = images[idx]\n",
    "\n",
    "        img = img.reshape(28, 28)\n",
    "\n",
    "        # Load stroke\n",
    "        if isinstance(strokes[idx], str):  # Path\n",
    "            strk = np.load(strokes[idx])\n",
    "        elif isinstance(strokes[idx], tuple):  # (label, i)\n",
    "            label_id, ex_id = strokes[idx]\n",
    "            cls = list(LABEL_MAP.keys())[label_id]\n",
    "            str_arr = np.load(os.path.join(DATA_DIR_STROKES, f\"{cls}.npz\"),\n",
    "                              allow_pickle=True)[\"strokes\"]\n",
    "            strk = str_arr[ex_id]\n",
    "        else:  # Already in memory\n",
    "            strk = strokes[idx]\n",
    "\n",
    "        # Plot\n",
    "        plt.subplot(n, 2, 2*i + 1)\n",
    "        plt.imshow(img, cmap=\"gray\")\n",
    "        plt.axis(\"off\")\n",
    "        plt.title(f\"Label: {labels[idx]}\")\n",
    "\n",
    "        plt.subplot(n, 2, 2*i + 2)\n",
    "        plt.plot(strk[:, 0], -strk[:, 1], marker='o', markersize=1)  # Flip y-axis for natural orientation\n",
    "        plt.axis(\"equal\")\n",
    "        plt.axis(\"off\")\n",
    "\n",
    "    plt.tight_layout()\n",
    "    plt.savefig(f'{n}_random_samples.png')\n",
    "\n",
    "\n",
    "# plot_images_and_strokes(images, strokes, labels, n=100)"
   ]
  },
  {
   "cell_type": "code",
   "execution_count": 11,
   "id": "a8326d70",
   "metadata": {},
   "outputs": [],
   "source": [
    "def data_generator(images, strokes, labels):\n",
    "    # no preprocess stroke or preprocess image because that is already taken care of while \n",
    "    # using convert_to_individual_npys.py\n",
    "    if USE_IN_MEMORY:\n",
    "        for image, stroke, label in zip(images, strokes, labels):\n",
    "            yield (\n",
    "                image,\n",
    "                stroke,\n",
    "                tf.one_hot(label, depth=NUM_CLASSES),\n",
    "            )\n",
    "    elif USE_INDIVIDUAL:\n",
    "        for img_path, str_path, label in zip(images, strokes, labels):\n",
    "            yield (\n",
    "                np.load(img_path),\n",
    "                np.load(str_path),\n",
    "                tf.one_hot(label, depth=NUM_CLASSES),\n",
    "            )\n",
    "    else:\n",
    "        for (img_id, i), (str_id, j), label in zip(images, strokes, labels):\n",
    "            img_path = os.path.join(DATA_DIR_IMAGES, REV_LABEL_MAP[img_id], \".npy\")\n",
    "            str_path = os.path.join(DATA_DIR_STROKES, REV_LABEL_MAP[str_id], \".npz\")\n",
    "            \n",
    "            img = np.load(img_path, allow_pickle=True, encoding=\"latin1\", mmap_mode=\"r\")[i]\n",
    "            strokes = np.load(str_path, allow_pickle=True, encoding=\"latin1\")[\"strokes\"][j]\n",
    "            yield (\n",
    "                preprocess_image(img),\n",
    "                preprocess_strokes(strokes),\n",
    "                tf.one_hot(label, depth=NUM_CLASSES),\n",
    "            )"
   ]
  },
  {
   "cell_type": "code",
   "execution_count": 12,
   "id": "d35abf2c",
   "metadata": {},
   "outputs": [],
   "source": [
    "def format_sample(img, stroke, label):\n",
    "    return {\"stroke_input\": stroke, \"image_input\": img}, label\n",
    "\n",
    "output_signature = (\n",
    "    tf.TensorSpec(shape=(28, 28, 1), dtype=tf.float32),\n",
    "    tf.TensorSpec(shape=(130, 3), dtype=tf.float32),\n",
    "    tf.TensorSpec(shape=(NUM_CLASSES,), dtype=tf.int32),\n",
    ")"
   ]
  },
  {
   "cell_type": "markdown",
   "id": "433acb88",
   "metadata": {},
   "source": [
    "### Train, Val, and Test Splits"
   ]
  },
  {
   "cell_type": "code",
   "execution_count": 13,
   "id": "8c977bab",
   "metadata": {},
   "outputs": [],
   "source": [
    "# Shuffle once and split\n",
    "total = len(labels)\n",
    "indices = np.arange(total)\n",
    "np.random.seed(42)\n",
    "np.random.shuffle(indices)\n",
    "\n",
    "train_end = int(SPLIT_RATIOS[0] * total)\n",
    "val_end = train_end + int(SPLIT_RATIOS[1] * total)\n",
    "\n",
    "train_idx = indices[:train_end]\n",
    "val_idx = indices[train_end:val_end]\n",
    "test_idx = indices[val_end:]\n",
    "\n",
    "# Train\n",
    "train_images =  [images[i] for i in train_idx]\n",
    "train_strokes = [strokes[i] for i in train_idx]\n",
    "train_labels =  [labels[i] for i in train_idx]\n",
    "\n",
    "# Val\n",
    "val_images =  [images[i] for i in val_idx]\n",
    "val_strokes = [strokes[i] for i in val_idx]\n",
    "val_labels =  [labels[i] for i in val_idx]\n",
    "\n",
    "# Test\n",
    "test_images =  [images[i] for i in test_idx]\n",
    "test_strokes = [strokes[i] for i in test_idx]\n",
    "test_labels =  [labels[i] for i in test_idx]"
   ]
  },
  {
   "cell_type": "code",
   "execution_count": 14,
   "id": "4698c5f3",
   "metadata": {},
   "outputs": [],
   "source": [
    "def build_dataset(images, strokes, labels, is_shuffle=False):\n",
    "    def gen():\n",
    "        return data_generator(images, strokes, labels)\n",
    "\n",
    "    ds = tf.data.Dataset.from_generator(\n",
    "        gen,\n",
    "        output_signature=output_signature\n",
    "    )\n",
    "\n",
    "    if is_shuffle:\n",
    "        ds = ds.shuffle(BATCH_SIZE * 10)\n",
    "\n",
    "    ds = ds.repeat()\n",
    "    ds = ds.map(format_sample, num_parallel_calls=tf.data.AUTOTUNE)\n",
    "    ds = ds.batch(BATCH_SIZE)\n",
    "    return ds.prefetch(tf.data.AUTOTUNE)"
   ]
  },
  {
   "cell_type": "code",
   "execution_count": 15,
   "id": "654c358b",
   "metadata": {},
   "outputs": [],
   "source": [
    "train_ds = build_dataset(train_images, train_strokes, train_labels, is_shuffle=True)\n",
    "val_ds  = build_dataset(val_images, val_strokes, val_labels).take(math.ceil(len(val_labels) / BATCH_SIZE))\n",
    "test_ds = build_dataset(test_images, test_strokes, test_labels).take(math.ceil(len(test_labels) / BATCH_SIZE))"
   ]
  },
  {
   "cell_type": "markdown",
   "id": "072608cf",
   "metadata": {},
   "source": [
    "### Model Training and graph plotting"
   ]
  },
  {
   "cell_type": "code",
   "execution_count": null,
   "id": "bdf7a20f",
   "metadata": {},
   "outputs": [
    {
     "name": "stdout",
     "output_type": "stream",
     "text": [
      "Epoch 1/30\n",
      "\u001b[1m16172/16172\u001b[0m \u001b[32m━━━━━━━━━━━━━━━━━━━━\u001b[0m\u001b[37m\u001b[0m \u001b[1m2277s\u001b[0m 140ms/step - accuracy: 0.6483 - loss: 2.2652 - val_accuracy: 0.8248 - val_loss: 1.5947 - learning_rate: 0.0010\n",
      "Epoch 2/30\n",
      "\u001b[1m16172/16172\u001b[0m \u001b[32m━━━━━━━━━━━━━━━━━━━━\u001b[0m\u001b[37m\u001b[0m \u001b[1m2295s\u001b[0m 142ms/step - accuracy: 0.7613 - loss: 1.8449 - val_accuracy: 0.8477 - val_loss: 1.5000 - learning_rate: 0.0010\n",
      "Epoch 3/30\n",
      "\u001b[1m16172/16172\u001b[0m \u001b[32m━━━━━━━━━━━━━━━━━━━━\u001b[0m\u001b[37m\u001b[0m \u001b[1m2299s\u001b[0m 142ms/step - accuracy: 0.7884 - loss: 1.7526 - val_accuracy: 0.8596 - val_loss: 1.4537 - learning_rate: 0.0010\n",
      "Epoch 4/30\n",
      "\u001b[1m16172/16172\u001b[0m \u001b[32m━━━━━━━━━━━━━━━━━━━━\u001b[0m\u001b[37m\u001b[0m \u001b[1m2304s\u001b[0m 142ms/step - accuracy: 0.8035 - loss: 1.7014 - val_accuracy: 0.8658 - val_loss: 1.4284 - learning_rate: 0.0010\n",
      "Epoch 5/30\n",
      "\u001b[1m16172/16172\u001b[0m \u001b[32m━━━━━━━━━━━━━━━━━━━━\u001b[0m\u001b[37m\u001b[0m \u001b[1m2307s\u001b[0m 143ms/step - accuracy: 0.8136 - loss: 1.6676 - val_accuracy: 0.8686 - val_loss: 1.4153 - learning_rate: 0.0010\n",
      "Epoch 6/30\n",
      "\u001b[1m16172/16172\u001b[0m \u001b[32m━━━━━━━━━━━━━━━━━━━━\u001b[0m\u001b[37m\u001b[0m \u001b[1m2494s\u001b[0m 154ms/step - accuracy: 0.8207 - loss: 1.6435 - val_accuracy: 0.8703 - val_loss: 1.4071 - learning_rate: 0.0010\n",
      "Epoch 7/30\n",
      "\u001b[1m16172/16172\u001b[0m \u001b[32m━━━━━━━━━━━━━━━━━━━━\u001b[0m\u001b[37m\u001b[0m \u001b[1m2580s\u001b[0m 160ms/step - accuracy: 0.8264 - loss: 1.6246 - val_accuracy: 0.8753 - val_loss: 1.3903 - learning_rate: 0.0010\n",
      "Epoch 8/30\n",
      "\u001b[1m16172/16172\u001b[0m \u001b[32m━━━━━━━━━━━━━━━━━━━━\u001b[0m\u001b[37m\u001b[0m \u001b[1m2608s\u001b[0m 161ms/step - accuracy: 0.8306 - loss: 1.6100 - val_accuracy: 0.8760 - val_loss: 1.3855 - learning_rate: 0.0010\n",
      "Epoch 9/30\n",
      "\u001b[1m16172/16172\u001b[0m \u001b[32m━━━━━━━━━━━━━━━━━━━━\u001b[0m\u001b[37m\u001b[0m \u001b[1m2649s\u001b[0m 164ms/step - accuracy: 0.8342 - loss: 1.5975 - val_accuracy: 0.8780 - val_loss: 1.3790 - learning_rate: 0.0010\n",
      "Epoch 10/30\n",
      "\u001b[1m16172/16172\u001b[0m \u001b[32m━━━━━━━━━━━━━━━━━━━━\u001b[0m\u001b[37m\u001b[0m \u001b[1m2695s\u001b[0m 167ms/step - accuracy: 0.8374 - loss: 1.5864 - val_accuracy: 0.8798 - val_loss: 1.3741 - learning_rate: 0.0010\n",
      "Epoch 11/30\n",
      "\u001b[1m16172/16172\u001b[0m \u001b[32m━━━━━━━━━━━━━━━━━━━━\u001b[0m\u001b[37m\u001b[0m \u001b[1m2731s\u001b[0m 169ms/step - accuracy: 0.8401 - loss: 1.5772 - val_accuracy: 0.8811 - val_loss: 1.3675 - learning_rate: 0.0010\n",
      "Epoch 12/30\n",
      "\u001b[1m16172/16172\u001b[0m \u001b[32m━━━━━━━━━━━━━━━━━━━━\u001b[0m\u001b[37m\u001b[0m \u001b[1m2764s\u001b[0m 171ms/step - accuracy: 0.8426 - loss: 1.5688 - val_accuracy: 0.8818 - val_loss: 1.3640 - learning_rate: 0.0010\n",
      "Epoch 13/30\n",
      "\u001b[1m16172/16172\u001b[0m \u001b[32m━━━━━━━━━━━━━━━━━━━━\u001b[0m\u001b[37m\u001b[0m \u001b[1m2806s\u001b[0m 174ms/step - accuracy: 0.8445 - loss: 1.5618 - val_accuracy: 0.8824 - val_loss: 1.3616 - learning_rate: 0.0010\n",
      "Epoch 14/30\n",
      "\u001b[1m16172/16172\u001b[0m \u001b[32m━━━━━━━━━━━━━━━━━━━━\u001b[0m\u001b[37m\u001b[0m \u001b[1m2842s\u001b[0m 176ms/step - accuracy: 0.8464 - loss: 1.5553 - val_accuracy: 0.8837 - val_loss: 1.3557 - learning_rate: 0.0010\n",
      "Epoch 15/30\n",
      "\u001b[1m16172/16172\u001b[0m \u001b[32m━━━━━━━━━━━━━━━━━━━━\u001b[0m\u001b[37m\u001b[0m \u001b[1m2884s\u001b[0m 178ms/step - accuracy: 0.8484 - loss: 1.5488 - val_accuracy: 0.8836 - val_loss: 1.3580 - learning_rate: 0.0010\n",
      "Epoch 16/30\n",
      "\u001b[1m16172/16172\u001b[0m \u001b[32m━━━━━━━━━━━━━━━━━━━━\u001b[0m\u001b[37m\u001b[0m \u001b[1m2925s\u001b[0m 181ms/step - accuracy: 0.8496 - loss: 1.5440 - val_accuracy: 0.8847 - val_loss: 1.3524 - learning_rate: 0.0010\n",
      "Epoch 17/30\n",
      "\u001b[1m16172/16172\u001b[0m \u001b[32m━━━━━━━━━━━━━━━━━━━━\u001b[0m\u001b[37m\u001b[0m \u001b[1m3250s\u001b[0m 201ms/step - accuracy: 0.8695 - loss: 1.4729 - val_accuracy: 0.8933 - val_loss: 1.3165 - learning_rate: 5.0000e-04\n",
      "Epoch 25/30\n",
      "\u001b[1m16172/16172\u001b[0m \u001b[32m━━━━━━━━━━━━━━━━━━━━\u001b[0m\u001b[37m\u001b[0m \u001b[1m3351s\u001b[0m 207ms/step - accuracy: 0.8701 - loss: 1.4704 - val_accuracy: 0.8933 - val_loss: 1.3166 - learning_rate: 5.0000e-04\n",
      "Epoch 26/30\n",
      "\u001b[1m16172/16172\u001b[0m \u001b[32m━━━━━━━━━━━━━━━━━━━━\u001b[0m\u001b[37m\u001b[0m \u001b[1m3291s\u001b[0m 204ms/step - accuracy: 0.8705 - loss: 1.4689 - val_accuracy: 0.8929 - val_loss: 1.3169 - learning_rate: 5.0000e-04\n",
      "Epoch 27/30\n",
      "\u001b[1m16172/16172\u001b[0m \u001b[32m━━━━━━━━━━━━━━━━━━━━\u001b[0m\u001b[37m\u001b[0m \u001b[1m3427s\u001b[0m 212ms/step - accuracy: 0.8722 - loss: 1.4633 - val_accuracy: 0.8944 - val_loss: 1.3118 - learning_rate: 5.0000e-04\n",
      "Epoch 30/30\n",
      "\u001b[1m16172/16172\u001b[0m \u001b[32m━━━━━━━━━━━━━━━━━━━━\u001b[0m\u001b[37m\u001b[0m \u001b[1m0s\u001b[0m 206ms/step - accuracy: 0.8725 - loss: 1.4621   "
     ]
    }
   ],
   "source": [
    "class MemoryCleanupCallback(tf.keras.callbacks.Callback):\n",
    "    def on_epoch_end(self, epoch, logs=None):\n",
    "        gc.collect()\n",
    "\n",
    "model_name = f\"best_model_{NUM_CLASSES}_classes_{SAMPLES_PER_CLASS}_examples\"\n",
    "callbacks = [\n",
    "    ModelCheckpoint(f\"{model_name}.keras\", monitor=\"val_accuracy\", save_best_only=True),\n",
    "    EarlyStopping(monitor=\"val_loss\", patience=5, restore_best_weights=True),\n",
    "    ReduceLROnPlateau(monitor=\"val_loss\", factor=0.5, patience=3),\n",
    "    MemoryCleanupCallback(),\n",
    "    BackupAndRestore(backup_dir=\"./training_backup\"),\n",
    "    TensorBoard(\n",
    "        log_dir=f\"./logs/fit/{datetime.datetime.now().strftime('%Y%m%d-%H%M%S')}\",\n",
    "        histogram_freq=1,  # logs weights histograms every epoch\n",
    "    ),\n",
    "]\n",
    "\n",
    "history = model.fit(\n",
    "    train_ds,\n",
    "    validation_data=val_ds,\n",
    "    epochs=EPOCHS,\n",
    "    steps_per_epoch=math.ceil(len(train_labels) / BATCH_SIZE),\n",
    "    callbacks=callbacks,\n",
    ")\n",
    "\n",
    "# Model has been trained but output relied on consistent ssh connection which I could not maintain, hence the gap in notebook. \n",
    "# Refer to training logs using tensorboard for more details."
   ]
  },
  {
   "cell_type": "code",
   "execution_count": 21,
   "id": "6de79c8b-9626-4c4f-9f52-b46b7ea671f4",
   "metadata": {},
   "outputs": [],
   "source": [
    "with open(f\"{model_name}_training_history.pkl\", \"wb\") as f:\n",
    "    pickle.dump(history.history, f)"
   ]
  },
  {
   "cell_type": "code",
   "execution_count": 22,
   "id": "04f85beb",
   "metadata": {},
   "outputs": [
    {
     "data": {
      "image/png": "[encoded data removed]",
      "text/plain": [
       "<Figure size 1200x500 with 2 Axes>"
      ]
     },
     "metadata": {},
     "output_type": "display_data"
    }
   ],
   "source": [
    "plt.figure(figsize=(12, 5))\n",
    "plt.subplot(1, 2, 1)\n",
    "plt.plot(history.history[\"accuracy\"], label=\"Training Accuracy\")\n",
    "plt.plot(history.history[\"val_accuracy\"], label=\"Validation Accuracy\")\n",
    "plt.title(\"Accuracy Curves\")\n",
    "plt.ylabel(\"Accuracy\")\n",
    "plt.xlabel(\"Epoch\")\n",
    "plt.legend()\n",
    "plt.grid(True)\n",
    "\n",
    "plt.subplot(1, 2, 2)\n",
    "plt.plot(history.history[\"loss\"], label=\"Training Loss\")\n",
    "plt.plot(history.history[\"val_loss\"], label=\"Validation Loss\")\n",
    "plt.title(\"Loss Curves\")\n",
    "plt.ylabel(\"Loss\")\n",
    "plt.xlabel(\"Epoch\")\n",
    "plt.legend()\n",
    "plt.grid(True)\n",
    "\n",
    "plt.tight_layout()\n",
    "plt.show()"
   ]
  },
  {
   "cell_type": "markdown",
   "id": "5630380b",
   "metadata": {},
   "source": [
    "### Model Evaluation on Test Data"
   ]
  },
  {
   "cell_type": "code",
   "execution_count": 25,
   "id": "6d53fd1b",
   "metadata": {},
   "outputs": [
    {
     "name": "stdout",
     "output_type": "stream",
     "text": [
      "\u001b[1m2022/2022\u001b[0m \u001b[32m━━━━━━━━━━━━━━━━━━━━\u001b[0m\u001b[37m\u001b[0m \u001b[1m209s\u001b[0m 103ms/step - accuracy: 0.8941 - loss: 1.3115\n",
      "Test Loss: 1.3115 | Test Accuracy: 0.8941\n"
     ]
    }
   ],
   "source": [
    "eval_model = tf.keras.models.load_model(f\"{model_name}.keras\")\n",
    "loss, acc = eval_model.evaluate(test_ds)\n",
    "print(f\"Test Loss: {loss:.4f} | Test Accuracy: {acc:.4f}\")"
   ]
  },
  {
   "cell_type": "markdown",
   "id": "ae26a5a9-ce80-4bd1-ae03-13b6eec06790",
   "metadata": {},
   "source": [
    "### Model Evaluation on Complete (30K samples) Data"
   ]
  },
  {
   "cell_type": "code",
   "execution_count": null,
   "id": "e8626d94-4b25-4d50-8580-84827c3072d8",
   "metadata": {},
   "outputs": [
    {
     "name": "stdout",
     "output_type": "stream",
     "text": [
      "\u001b[1m19756/20215\u001b[0m \u001b[32m━━━━━━━━━━━━━━━━━━━\u001b[0m\u001b[37m━\u001b[0m \u001b[1m51s\u001b[0m 113ms/step - accuracy: 0.9004 - loss: 1.2928  "
     ]
    }
   ],
   "source": [
    "ds = build_dataset(images, strokes, labels).take(math.ceil(len(labels) / BATCH_SIZE))\n",
    "\n",
    "eval_model = tf.keras.models.load_model(f\"{model_name}.keras\")\n",
    "loss, acc = eval_model.evaluate(ds)\n",
    "print(f\"Test Loss: {loss:.4f} | Test Accuracy: {acc:.4f}\")"
   ]
  },
  {
   "cell_type": "code",
   "execution_count": 36,
   "id": "3fa459c3-4145-4f3c-b9bd-bf83f79b108d",
   "metadata": {},
   "outputs": [
    {
     "name": "stdout",
     "output_type": "stream",
     "text": [
      "Test Loss: 1.2799 | Test Accuracy: 0.9045\n"
     ]
    }
   ],
   "source": [
    "print(f\"Test Loss: {loss:.4f} | Test Accuracy: {acc:.4f}\")"
   ]
  }
 ],
 "metadata": {
  "kernelspec": {
   "display_name": ".tens-and-cuda",
   "language": "python",
   "name": ".tens-and-cuda"
  },
  "language_info": {
   "codemirror_mode": {
    "name": "ipython",
    "version": 3
   },
   "file_extension": ".py",
   "mimetype": "text/x-python",
   "name": "python",
   "nbconvert_exporter": "python",
   "pygments_lexer": "ipython3",
   "version": "3.13.5"
  }
 },
 "nbformat": 4,
 "nbformat_minor": 5
}
